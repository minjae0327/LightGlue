{
 "cells": [
  {
   "cell_type": "code",
   "execution_count": 2,
   "metadata": {},
   "outputs": [],
   "source": [
    "import torch\n",
    "import torch.nn as nn\n",
    "import torch.nn.functional as F\n",
    "\n",
    "import math"
   ]
  },
  {
   "cell_type": "code",
   "execution_count": 3,
   "metadata": {},
   "outputs": [],
   "source": [
    "class MultiHeadAttention(nn.Module):\n",
    "    def __init__(self, dimension, head_num, dropout=0.1):\n",
    "        super().__init__()\n",
    "        assert dimension % head_num == 0\n",
    "        self.d_model = dimension\n",
    "        self.n_head = head_num\n",
    "\n",
    "        # 차원을 head의 갯수로 나눈 값을 q, k, v의 차원으로 결정\n",
    "        self.d_q = dimension // head_num\n",
    "        self.d_k = dimension // head_num\n",
    "        self.d_v = dimension // head_num\n",
    "        \n",
    "        self.w_q = nn.Linear(dimension, dimension)\n",
    "        self.w_k = nn.Linear(dimension, dimension)\n",
    "        self.w_v = nn.Linear(dimension, dimension)\n",
    "        self.w_o = nn.Linear(dimension, dimension)\n",
    "        \n",
    "        self.dropout = nn.Dropout(dropout)\n",
    "        \n",
    "    def scaled_dot_product_attention(self, q, k, v, mask = None):\n",
    "        matmul_qk = torch.matmul(q, k.transpose(-1, -2))\n",
    "        dk = torch.tensor(k.shape[-1], dtype=torch.float32)\n",
    "        attention_score = matmul_qk / torch.sqrt(dk)\n",
    "        if mask is not None: #디코더 부분에서 자기 자신보다 미래에 있는 단어들은 참고하지 못하도록 하는 마스킹\n",
    "            attention_score += (mask * -1e9)\n",
    "        attention_distribution = torch.softmax(attention_score, dim = -1)\n",
    "        attention_value = torch.matmul(attention_distribution, v)\n",
    "        \n",
    "        return attention_value\n",
    "    \n",
    "    def forward(self, q, k, v, mask = None):\n",
    "        batch_size = q.size(0)\n",
    "        q = self.w_q(q).view(batch_size, -1, self.n_head, self.d_q).transpose(1,2)\n",
    "        k = self.w_k(k).view(batch_size, -1, self.n_head, self.d_k).transpose(1,2)\n",
    "        v = self.w_v(v).view(batch_size, -1, self.n_head, self.d_v).transpose(1,2)\n",
    "        \n",
    "        if mask is not None:\n",
    "            mask = mask.unsqueeze(1)\n",
    "        q = self.dropout(q)\n",
    "        k = self.dropout(k)\n",
    "        v = self.dropout(v)\n",
    "        \n",
    "        output = self.MultiHeadAttention(q, k, v, mask)\n",
    "        output = output.transpose(1,2).contiguous().view(batch_size, -1, self.n_head * self.d_v)\n",
    "        #output = self.w_o(output)\n",
    "        #output = self.dropout(output)\n",
    "        return output\n",
    "        \n",
    "        "
   ]
  },
  {
   "cell_type": "code",
   "execution_count": null,
   "metadata": {},
   "outputs": [],
   "source": [
    "class AddLayerNorm(nn.Module):\n",
    "    def __init__(self):\n",
    "        super().__init__()\n",
    "        \n",
    "    def layer_norm(self, x, eps = 1e-6):\n",
    "        mean = x.mean(dim = -1, keepdim = True)\n",
    "        std = x.std(dim = -1, keepdim = True)\n",
    "        \n",
    "        return (x - mean) / (std + eps)\n",
    "    \n",
    "    def forward(self, input, residual):\n",
    "        return residual + self.layer_norm(input)"
   ]
  },
  {
   "cell_type": "code",
   "execution_count": null,
   "metadata": {},
   "outputs": [],
   "source": [
    "class Encoder(nn.Module):\n",
    "    def __init__(self, dimension=512, head=8):\n",
    "        super().__init__()\n",
    "        self.multihead = MultiHeadAttention(dimension, head)\n",
    "        self.residual_layer1 = AddLayerNorm()\n",
    "        self.feed_forward = FeedForward(dimension)\n",
    "        self.residual_layer2 = AddLayerNorm()\n",
    "        \n",
    "    def forward(self, q, k, v):\n",
    "        multihead_output = self.multihead(q, k, v)\n",
    "        layer1_output = self.residual_layer1(q, multihead_output)\n",
    "        feed_forward_output = self.feed_forward(layer1_output)\n",
    "        output = self.residual_layer2(layer1_output, feed_forward_output)\n",
    "        \n",
    "        return output"
   ]
  }
 ],
 "metadata": {
  "kernelspec": {
   "display_name": "base",
   "language": "python",
   "name": "python3"
  },
  "language_info": {
   "codemirror_mode": {
    "name": "ipython",
    "version": 3
   },
   "file_extension": ".py",
   "mimetype": "text/x-python",
   "name": "python",
   "nbconvert_exporter": "python",
   "pygments_lexer": "ipython3",
   "version": "3.9.16"
  }
 },
 "nbformat": 4,
 "nbformat_minor": 2
}
