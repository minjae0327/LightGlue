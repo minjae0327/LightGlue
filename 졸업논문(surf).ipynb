{
 "cells": [
  {
   "cell_type": "code",
   "execution_count": null,
   "metadata": {},
   "outputs": [],
   "source": [
    "import os\n",
    "import cv2 \n",
    "import time\n",
    "import json\n",
    "import numpy as np\n",
    "\n",
    "\n",
    "from lightglue_utils import *\n",
    "from preprocess_newdataset import *\n",
    "\n",
    "import CSRansac"
   ]
  },
  {
   "cell_type": "markdown",
   "metadata": {},
   "source": [
    "## Dataset 전처리"
   ]
  },
  {
   "cell_type": "code",
   "execution_count": null,
   "metadata": {},
   "outputs": [],
   "source": [
    "origin_coordinates, float_origin_coordinates = get_origin_coordinates()\n",
    "images = get_images()\n",
    "lengths = get_lens()"
   ]
  },
  {
   "cell_type": "markdown",
   "metadata": {},
   "source": [
    "## 에러 평가 코드(인접 프레임)"
   ]
  },
  {
   "cell_type": "code",
   "execution_count": null,
   "metadata": {},
   "outputs": [],
   "source": [
    "def matching_keypoints(img0, img1, stabilizing=False):\n",
    "    # 이미지가 컬러인지 확인하고 그레이스케일로 변환\n",
    "    if len(img0.shape) == 3:\n",
    "        img0_gray = cv2.cvtColor(img0, cv2.COLOR_BGR2GRAY)\n",
    "    else:\n",
    "        img0_gray = img0\n",
    "\n",
    "    if len(img1.shape) == 3:\n",
    "        img1_gray = cv2.cvtColor(img1, cv2.COLOR_BGR2GRAY)\n",
    "    else:\n",
    "        img1_gray = img1\n",
    "\n",
    "    # SURF 객체 생성\n",
    "    surf = cv2.xfeatures2d.SURF_create()\n",
    "\n",
    "    # 키포인트와 디스크립터 검출\n",
    "    keypoints0, descriptors0 = surf.detectAndCompute(img0_gray, None)\n",
    "    keypoints1, descriptors1 = surf.detectAndCompute(img1_gray, None)\n",
    "\n",
    "    # BFMatcher 객체 생성 및 KNN 매칭 수행\n",
    "    bf = cv2.BFMatcher()\n",
    "    matches = bf.knnMatch(descriptors0, descriptors1, k=2)\n",
    "\n",
    "    # 좋은 매칭 선별 (Ratio Test)\n",
    "    good_matches = []\n",
    "    for m, n in matches:\n",
    "        if m.distance < 0.75 * n.distance:\n",
    "            good_matches.append(m)\n",
    "\n",
    "    # 매칭된 키포인트 좌표 추출\n",
    "    points0 = np.float32([keypoints0[m.queryIdx].pt for m in good_matches])\n",
    "    points1 = np.float32([keypoints1[m.trainIdx].pt for m in good_matches])\n",
    "\n",
    "    return {\"points0\": points0, \"points1\": points1}"
   ]
  },
  {
   "cell_type": "code",
   "execution_count": null,
   "metadata": {},
   "outputs": [
    {
     "name": "stdout",
     "output_type": "stream",
     "text": [
      "(262.99615537328606, 186.28899835987974)\n"
     ]
    },
    {
     "ename": "AttributeError",
     "evalue": "'tuple' object has no attribute 'type'",
     "output_type": "error",
     "traceback": [
      "\u001b[1;31m---------------------------------------------------------------------------\u001b[0m\n",
      "\u001b[1;31mAttributeError\u001b[0m                            Traceback (most recent call last)\n",
      "Cell \u001b[1;32mIn[38], line 50\u001b[0m\n",
      "\u001b[0;32m     48\u001b[0m projected_pts \u001b[38;5;241m=\u001b[39m CSRansac\u001b[38;5;241m.\u001b[39mperspective_transform(np\u001b[38;5;241m.\u001b[39marray([x, y]), homography)\n",
      "\u001b[0;32m     49\u001b[0m \u001b[38;5;28mprint\u001b[39m(projected_pts)\n",
      "\u001b[1;32m---> 50\u001b[0m \u001b[38;5;28mprint\u001b[39m(\u001b[43mprojected_pts\u001b[49m\u001b[38;5;241;43m.\u001b[39;49m\u001b[43mtype\u001b[49m())\n",
      "\u001b[0;32m     51\u001b[0m \u001b[38;5;28;01mbreak\u001b[39;00m\n",
      "\u001b[0;32m     53\u001b[0m coord_list[video_index][i]\u001b[38;5;241m.\u001b[39mappend(projected_pts)\n",
      "\n",
      "\u001b[1;31mAttributeError\u001b[0m: 'tuple' object has no attribute 'type'"
     ]
    }
   ],
   "source": [
    "epochs = 1\n",
    "\n",
    "for video_type in range(0, 5):\n",
    "    # 각종 평가 수치들\n",
    "    misannotate_errors = []\n",
    "    pixel_errors = []\n",
    "    failed_inliers = 0\n",
    "    zero_inliers = 0\n",
    "    inlier_rates = 0\n",
    "\n",
    "    for epoch in range(epochs):\n",
    "        len_videos = len(origin_coordinates[video_type])  # 동영상의 개수\n",
    "        coord_list = [[] for _ in range(len_videos)]\n",
    "\n",
    "        for video_index in range(len_videos):\n",
    "            len_coord = len(origin_coordinates[video_type][video_index])\n",
    "            len_images = len(images[video_type][video_index])\n",
    "\n",
    "            # 이미지의 길이만큼\n",
    "            _images = images[video_type][video_index]\n",
    "\n",
    "            coord_list[video_index] = [[] for _ in range(len_images)]\n",
    "\n",
    "            img0 = _images[0]\n",
    "\n",
    "            for i in range(len_images):\n",
    "                x = origin_coordinates[video_type][video_index][i][0]\n",
    "                y = origin_coordinates[video_type][video_index][i][1]\n",
    "\n",
    "                if i != len_images - 1:\n",
    "                    img1 = _images[i + 1]\n",
    "\n",
    "                    # SURF와 KNN을 사용한 매칭\n",
    "                    results = matching_keypoints(img0, img1, stabilizing=False)\n",
    "                    target_keypoint = results[\"points0\"]\n",
    "                    frame_keypoint = results[\"points1\"]\n",
    "                    if len(target_keypoint) < 6:\n",
    "                        failed_inliers += 1\n",
    "                        continue\n",
    "\n",
    "                    homography, mask = CSRansac.csransac(target_keypoint, frame_keypoint)\n",
    "                    if mask <= 0.3:\n",
    "                        if mask == 0:\n",
    "                            zero_inliers += 1\n",
    "                        failed_inliers += 1\n",
    "\n",
    "                    inlier_rates += mask\n",
    "                    projected_pts = CSRansac.perspective_transform(np.array([x, y]), homography)\n",
    "\n",
    "                    coord_list[video_index][i].append(projected_pts)\n",
    "\n",
    "                    img0 = img1\n",
    "\n",
    "        # 에러 측정\n",
    "        misannotate_error, pixel_error = get_errors(coord_list, float_origin_coordinates[video_type], len_coord)\n",
    "\n",
    "        misannotate_errors.append(misannotate_error)\n",
    "        pixel_errors.append(pixel_error)\n",
    "\n",
    "    error1 = sum(misannotate_errors) / len(misannotate_errors)\n",
    "    error2 = sum(pixel_errors) / len(pixel_errors)\n",
    "    error3 = inlier_rates / (len(lengths[video_type]) * epochs)\n",
    "\n",
    "    print(\"failed_inliers:\", failed_inliers)\n",
    "    print(\"zero_inliers:\", zero_inliers)\n",
    "    print(\"misannotate_error:\", error1)\n",
    "    print(\"pixel_error:\", error2)\n",
    "    print(\"inlier_rate:\", error3)\n",
    "    print()\n"
   ]
  }
 ],
 "metadata": {
  "language_info": {
   "name": "python"
  }
 },
 "nbformat": 4,
 "nbformat_minor": 2
}
